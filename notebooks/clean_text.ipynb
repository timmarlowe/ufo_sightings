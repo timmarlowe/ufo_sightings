{
 "cells": [
  {
   "cell_type": "code",
   "execution_count": 495,
   "metadata": {},
   "outputs": [],
   "source": [
    "import pandas as pd \n",
    "import numpy as np\n",
    "from sklearn.feature_extraction.text import TfidfVectorizer\n",
    "from sklearn.decomposition import NMF\n",
    "from tabulate import tabulate"
   ]
  },
  {
   "cell_type": "code",
   "execution_count": 332,
   "metadata": {},
   "outputs": [],
   "source": [
    "df = pd.read_pickle('ufo_db.pkl')"
   ]
  },
  {
   "cell_type": "code",
   "execution_count": 329,
   "metadata": {},
   "outputs": [],
   "source": [
    "def split_entered(word):\n",
    "    #word.split('Entered as: ', 1)[1]\n",
    "    #word.split('Occurred :',1)[1]\n",
    "    return word.split('(Entered as : ', 1)[0]\n",
    "   \n",
    "def split_occurred(word):\n",
    "    return word.split('Occurred :')[1]\n",
    "\n",
    "def split_reported(word): \n",
    "    return word.split(\"Reported: \")[1]\n",
    "\n",
    "def split_location(word): \n",
    "    return word.split('Location:')[1]\n",
    "\n",
    "def split_shape(word): \n",
    "    try: \n",
    "        return word.split('Shape:')[1]\n",
    "    except IndexError: \n",
    "        return word\n",
    "\n",
    "def split_duration(word): \n",
    "    try: \n",
    "        return word.split('Duration:')[1]\n",
    "    except IndexError: \n",
    "        return word\n",
    "    \n",
    "def split_posted(word): \n",
    "    try: \n",
    "        return word.split('Posted:')[1]\n",
    "    except IndexError: \n",
    "        return word"
   ]
  },
  {
   "cell_type": "code",
   "execution_count": 333,
   "metadata": {},
   "outputs": [],
   "source": [
    "df[0] = df[0].apply(split_occurred)\n",
    "df[0] = df[0].apply(split_entered)\n",
    "df[1] = df[1].apply(split_reported)\n",
    "df[2] = df[2].apply(split_posted)\n",
    "df[3] = df[3].apply(split_location)\n",
    "df[4] = df[4].apply(split_shape)\n",
    "df[5] = df[5].apply(split_duration)"
   ]
  },
  {
   "cell_type": "code",
   "execution_count": 334,
   "metadata": {},
   "outputs": [
    {
     "data": {
      "text/html": [
       "<div>\n",
       "<style scoped>\n",
       "    .dataframe tbody tr th:only-of-type {\n",
       "        vertical-align: middle;\n",
       "    }\n",
       "\n",
       "    .dataframe tbody tr th {\n",
       "        vertical-align: top;\n",
       "    }\n",
       "\n",
       "    .dataframe thead th {\n",
       "        text-align: right;\n",
       "    }\n",
       "</style>\n",
       "<table border=\"1\" class=\"dataframe\">\n",
       "  <thead>\n",
       "    <tr style=\"text-align: right;\">\n",
       "      <th></th>\n",
       "      <th>0</th>\n",
       "      <th>1</th>\n",
       "      <th>2</th>\n",
       "      <th>3</th>\n",
       "      <th>4</th>\n",
       "      <th>5</th>\n",
       "      <th>6</th>\n",
       "    </tr>\n",
       "  </thead>\n",
       "  <tbody>\n",
       "    <tr>\n",
       "      <th>0</th>\n",
       "      <td>5/6/2017 05:00</td>\n",
       "      <td>5/6/2017 4:10:01 AM 04:10</td>\n",
       "      <td>5/6/2017</td>\n",
       "      <td>Camp McGregor, NM</td>\n",
       "      <td>Light</td>\n",
       "      <td>10 minutes</td>\n",
       "      <td>Light seen over mountain's east of Camp McGreg...</td>\n",
       "    </tr>\n",
       "    <tr>\n",
       "      <th>1</th>\n",
       "      <td>5/6/2017 04:50</td>\n",
       "      <td>5/6/2017 5:00:54 AM 05:00</td>\n",
       "      <td>5/6/2017</td>\n",
       "      <td>Mojave (Canada), BC</td>\n",
       "      <td>Light</td>\n",
       "      <td>1:00</td>\n",
       "      <td>Light in sky stationary.  Not a airplane or an...</td>\n",
       "    </tr>\n",
       "    <tr>\n",
       "      <th>2</th>\n",
       "      <td>5/5/2017 11:30</td>\n",
       "      <td>5/5/2017 12:18:44 PM 12:18</td>\n",
       "      <td>5/6/2017</td>\n",
       "      <td>Austin, TX</td>\n",
       "      <td>Disk</td>\n",
       "      <td>3 seconds</td>\n",
       "      <td>Flying saucer descends, possibly lands in Nort...</td>\n",
       "    </tr>\n",
       "    <tr>\n",
       "      <th>3</th>\n",
       "      <td>5/5/2017 03:00</td>\n",
       "      <td>5/5/2017 3:49:05 AM 03:49</td>\n",
       "      <td>5/6/2017</td>\n",
       "      <td>El Mirage, AZ</td>\n",
       "      <td>Circle</td>\n",
       "      <td>30 seconds</td>\n",
       "      <td>While letting my dog out, a very bright white ...</td>\n",
       "    </tr>\n",
       "    <tr>\n",
       "      <th>4</th>\n",
       "      <td>5/4/2017 23:34</td>\n",
       "      <td>5/4/2017 10:38:52 PM 22:38</td>\n",
       "      <td>5/6/2017</td>\n",
       "      <td>York, NE</td>\n",
       "      <td>Fireball</td>\n",
       "      <td>0:18</td>\n",
       "      <td>A fire ball was moving in the atmosphere while...</td>\n",
       "    </tr>\n",
       "  </tbody>\n",
       "</table>\n",
       "</div>"
      ],
      "text/plain": [
       "                   0                           1          2  \\\n",
       "0   5/6/2017 05:00     5/6/2017 4:10:01 AM 04:10   5/6/2017   \n",
       "1   5/6/2017 04:50     5/6/2017 5:00:54 AM 05:00   5/6/2017   \n",
       "2   5/5/2017 11:30    5/5/2017 12:18:44 PM 12:18   5/6/2017   \n",
       "3   5/5/2017 03:00     5/5/2017 3:49:05 AM 03:49   5/6/2017   \n",
       "4   5/4/2017 23:34    5/4/2017 10:38:52 PM 22:38   5/6/2017   \n",
       "\n",
       "                      3          4           5  \\\n",
       "0     Camp McGregor, NM      Light  10 minutes   \n",
       "1   Mojave (Canada), BC      Light        1:00   \n",
       "2            Austin, TX       Disk   3 seconds   \n",
       "3         El Mirage, AZ     Circle  30 seconds   \n",
       "4              York, NE   Fireball        0:18   \n",
       "\n",
       "                                                   6  \n",
       "0  Light seen over mountain's east of Camp McGreg...  \n",
       "1  Light in sky stationary.  Not a airplane or an...  \n",
       "2  Flying saucer descends, possibly lands in Nort...  \n",
       "3  While letting my dog out, a very bright white ...  \n",
       "4  A fire ball was moving in the atmosphere while...  "
      ]
     },
     "execution_count": 334,
     "metadata": {},
     "output_type": "execute_result"
    }
   ],
   "source": [
    "df.head()"
   ]
  },
  {
   "cell_type": "code",
   "execution_count": 414,
   "metadata": {},
   "outputs": [],
   "source": [
    "descriptions = df[6]"
   ]
  },
  {
   "cell_type": "code",
   "execution_count": 415,
   "metadata": {},
   "outputs": [],
   "source": [
    "vectorizer = TfidfVectorizer(stop_words='english', max_features=5000)"
   ]
  },
  {
   "cell_type": "code",
   "execution_count": null,
   "metadata": {},
   "outputs": [],
   "source": []
  },
  {
   "cell_type": "code",
   "execution_count": 416,
   "metadata": {},
   "outputs": [],
   "source": [
    "types = np.array([type(i) for i in descriptions])\n"
   ]
  },
  {
   "cell_type": "code",
   "execution_count": 417,
   "metadata": {},
   "outputs": [],
   "source": [
    "df_array = np.array(df)"
   ]
  },
  {
   "cell_type": "code",
   "execution_count": 419,
   "metadata": {},
   "outputs": [],
   "source": [
    "remove_floats = types == float"
   ]
  },
  {
   "cell_type": "code",
   "execution_count": 425,
   "metadata": {},
   "outputs": [],
   "source": [
    "rows_to_remove = descriptions[remove_floats]"
   ]
  },
  {
   "cell_type": "code",
   "execution_count": 431,
   "metadata": {
    "scrolled": true
   },
   "outputs": [
    {
     "data": {
      "text/plain": [
       "array([13698, 39641])"
      ]
     },
     "execution_count": 431,
     "metadata": {},
     "output_type": "execute_result"
    }
   ],
   "source": [
    "rows_to_remove.index.values"
   ]
  },
  {
   "cell_type": "code",
   "execution_count": 432,
   "metadata": {},
   "outputs": [
    {
     "data": {
      "text/plain": [
       "0         Light seen over mountain's east of Camp McGreg...\n",
       "1         Light in sky stationary.  Not a airplane or an...\n",
       "2         Flying saucer descends, possibly lands in Nort...\n",
       "3         While letting my dog out, a very bright white ...\n",
       "4         A fire ball was moving in the atmosphere while...\n",
       "5         craft following above car I saw a light reflec...\n",
       "6         helicopter chasing orange light at low altitud...\n",
       "7         Orange round sphere. Orange glowing sphere fle...\n",
       "8         Was standing outside in downtown houston at 8:...\n",
       "9         Flying corkscrews Looking to th east at about ...\n",
       "10        Hat-shaped tan object caught on cell phone cam...\n",
       "11        I'm a truck driver and I've seen the reddish/o...\n",
       "12        For a little over a month, I would go outside ...\n",
       "13        Watched a 3-4 in sphere come in one end of dev...\n",
       "14        Fast moving green lights.  One flashing the ot...\n",
       "15        I was walking my dog and I looked up at the st...\n",
       "16        Three moving bright lights. There were three b...\n",
       "17        I seen two objects dancing high in the sky... ...\n",
       "18        Very bright triangular shaped object. I was dr...\n",
       "19        MAN SEEN AIRLINE LIKE OBJECT VANISH INSIDE CON...\n",
       "20        UFO. A very large size, gray color, square sha...\n",
       "21        Albuquerque âAround 11:15 pm.  We saw a sing...\n",
       "22        This object was flying over the mountains and ...\n",
       "23        Strange craft appears at dusk, lights up and m...\n",
       "24        Stepped out my backdoor and saw a reflective m...\n",
       "25        Above the SF Valley Black object way up in the...\n",
       "26        where are all the pictures....with everyone ow...\n",
       "27        Orange steady light This description was given...\n",
       "28        Got home late 11:30 pm, went out back for a sm...\n",
       "29        In the sky west of Marana, AZ.  3 flashing obj...\n",
       "                                ...                        \n",
       "136302    SUMMARY:  Viewed pairs of red strobing lights ...\n",
       "136303    Summary : football-sized round.red and green l...\n",
       "136304    Summary : Five golden (like harvest moon)  sau...\n",
       "136305    SUMMARY:  Loud boom, so loud shook house.  Wen...\n",
       "136306    Summary : I was speeding through the town at a...\n",
       "136307    SUMMARY:  Saw light travelling across sky I sa...\n",
       "136308    Summary : 3 witnesses see 2 large triangular o...\n",
       "136309    SUMMARY:  A disc shaped object was floating ab...\n",
       "136310    SUMMARY:  Saw a very large object 1000-1500 ft...\n",
       "136311    SUMMARY:  Fireball flying parellel with the ho...\n",
       "136312    Summary : A huge solid black mass, silently gl...\n",
       "136313    SUMMARY:  My Father and I watched a silver obj...\n",
       "136314    Summary : I was 13-15.  I was in my parent hou...\n",
       "136315    Summary : A VERY fast light point object that ...\n",
       "136316    Summary : Smooth, rounded triangular object, s...\n",
       "136317    SUMMARY:  1972, Utah-small bright cloud, I'm d...\n",
       "136318    Summary : Large Aluminun-colored \"Saucer\" Two ...\n",
       "136319    Summary : I SEEN  A UFO WHEN I WAS ABOUT 13 YE...\n",
       "136320    Summary : A small UFO we chased in a Piper Che...\n",
       "136321    Summary : Noticed a semi-circular array of whi...\n",
       "136322    Summary : no moon,observed colored blinking li...\n",
       "136323    Summary : 5 objects seen over Sumner WA June o...\n",
       "136324    Summary : My cousin & I were both 7 and we wer...\n",
       "136325    SUMMARY:  Cigar shaped object. 25,000 to 40,00...\n",
       "136326    Summary : during the day a 5 year old boy sees...\n",
       "136327    Summary : Two objects rendevous at the moon. J...\n",
       "136328    i dont remember going to my room but when i wo...\n",
       "136329    Summary : object seen moving from one star to ...\n",
       "136330    Summary : in the very early morning hours of 1...\n",
       "136331    Summary : It was dark and then lit up. A huge ...\n",
       "Name: 6, Length: 136330, dtype: object"
      ]
     },
     "execution_count": 432,
     "metadata": {},
     "output_type": "execute_result"
    }
   ],
   "source": [
    "descriptions.drop(rows_to_remove.index.values)"
   ]
  },
  {
   "cell_type": "code",
   "execution_count": 435,
   "metadata": {},
   "outputs": [],
   "source": [
    "tfidf = vectorizer.fit_transform(descriptions.drop(rows_to_remove.index.values))"
   ]
  },
  {
   "cell_type": "code",
   "execution_count": 487,
   "metadata": {},
   "outputs": [],
   "source": [
    "sklearn_nmf = NMF(n_components=10, init='random', random_state=0)"
   ]
  },
  {
   "cell_type": "code",
   "execution_count": 488,
   "metadata": {},
   "outputs": [
    {
     "data": {
      "text/plain": [
       "NMF(alpha=0.0, beta_loss='frobenius', init='random', l1_ratio=0.0,\n",
       "  max_iter=200, n_components=10, random_state=0, shuffle=False,\n",
       "  solver='cd', tol=0.0001, verbose=0)"
      ]
     },
     "execution_count": 488,
     "metadata": {},
     "output_type": "execute_result"
    }
   ],
   "source": [
    "sklearn_nmf.fit(tfidf)"
   ]
  },
  {
   "cell_type": "code",
   "execution_count": 452,
   "metadata": {},
   "outputs": [],
   "source": [
    "names = np.array(vectorizer.get_feature_names())"
   ]
  },
  {
   "cell_type": "code",
   "execution_count": 499,
   "metadata": {},
   "outputs": [],
   "source": [
    "topic_list = []\n",
    "rows = []\n",
    "for idx, row in enumerate(sklearn_nmf.components_): \n",
    "    top_idx = np.argsort(row)[-5:]\n",
    "    topic_list.append(names[top_idx])\n",
    "    rows.append('Topic {}'.format(idx+1))"
   ]
  },
  {
   "cell_type": "code",
   "execution_count": 500,
   "metadata": {},
   "outputs": [],
   "source": [
    "topic_df = pd.DataFrame(topic_list, columns = ['Word 1', 'Word 2', 'Word 3', 'Word 4', 'Word 5'], index=rows )\n"
   ]
  },
  {
   "cell_type": "code",
   "execution_count": 501,
   "metadata": {},
   "outputs": [
    {
     "name": "stdout",
     "output_type": "stream",
     "text": [
      "|          | Word 1      | Word 2      | Word 3    | Word 4   | Word 5   |\n",
      "|:---------|:------------|:------------|:----------|:---------|:---------|\n",
      "| Topic 1  | went        | looked      | like      | just     | saw      |\n",
      "| Topic 2  | approximate | pd          | note      | nuforc   | date     |\n",
      "| Topic 3  | orbs        | disappeared | fireball  | glowing  | orange   |\n",
      "| Topic 4  | remain      | information | anonymous | elects   | provides |\n",
      "| Topic 5  | formation   | flashing    | triangle  | red      | lights   |\n",
      "| Topic 6  | south       | west        | north     | east     | objects  |\n",
      "| Topic 7  | green       | red         | white     | bright   | light    |\n",
      "| Topic 8  | white       | shape       | appeared  | shaped   | object   |\n",
      "| Topic 9  | triangular  | flying      | triangle  | shaped   | craft    |\n",
      "| Topic 10 | stars       | like        | moving    | sky      | star     |\n"
     ]
    }
   ],
   "source": [
    "print(tabulate(topic_df.round(), headers='keys', tablefmt='pipe'))"
   ]
  },
  {
   "cell_type": "code",
   "execution_count": null,
   "metadata": {},
   "outputs": [],
   "source": []
  }
 ],
 "metadata": {
  "kernelspec": {
   "display_name": "Python 3",
   "language": "python",
   "name": "python3"
  },
  "language_info": {
   "codemirror_mode": {
    "name": "ipython",
    "version": 3
   },
   "file_extension": ".py",
   "mimetype": "text/x-python",
   "name": "python",
   "nbconvert_exporter": "python",
   "pygments_lexer": "ipython3",
   "version": "3.6.6"
  }
 },
 "nbformat": 4,
 "nbformat_minor": 2
}
